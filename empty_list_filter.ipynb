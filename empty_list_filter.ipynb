{
 "cells": [
  {
   "cell_type": "markdown",
   "metadata": {},
   "source": [
    "# Empty List Filter"
   ]
  },
  {
   "cell_type": "markdown",
   "metadata": {},
   "source": [
    "This is a technique using [this keras classification open kernel](https://www.kaggle.com/mobassir/keras-efficientnetb2-for-classifying-cloud).\n",
    "\n",
    "We didn't retrain the classifier, just clear some over confident predictions"
   ]
  },
  {
   "cell_type": "code",
   "execution_count": 56,
   "metadata": {},
   "outputs": [],
   "source": [
    "import pandas as pd\n",
    "import numpy as np\n",
    "from argparse import ArgumentParser"
   ]
  },
  {
   "cell_type": "code",
   "execution_count": 57,
   "metadata": {},
   "outputs": [],
   "source": [
    "# ap = ArgumentParser()\n",
    "\n",
    "# ap.add_argument(\"--csv\", dest = \"csv\", type = str, help = \"csv file path\")\n",
    "# args = ap.parse_args()\n",
    "\n",
    "# SUBFILE = args.csv\n",
    "\n",
    "SUBFILE = \"convex_csvs_1117_012120_sub.csv\"\n",
    "\n",
    "submission = pd.read_csv(SUBFILE)"
   ]
  },
  {
   "cell_type": "code",
   "execution_count": 58,
   "metadata": {},
   "outputs": [],
   "source": [
    "sub_ = pd.read_csv(SUBFILE)\n",
    "sub_[\"img\"] = sub_.Image_Label.apply(lambda x:x.split(\"_\")[0])\n",
    "sub_[\"lbl\"] = sub_.Image_Label.apply(lambda x:x.split(\"_\")[1])\n",
    "sub_[\"has_class\"] = sub_.EncodedPixels.isnull()*1"
   ]
  },
  {
   "cell_type": "code",
   "execution_count": 59,
   "metadata": {},
   "outputs": [],
   "source": [
    "class_counter = sub_.groupby(\"img\").sum().reset_index()"
   ]
  },
  {
   "cell_type": "code",
   "execution_count": 60,
   "metadata": {},
   "outputs": [],
   "source": [
    "missing = class_counter[class_counter.has_class==0]"
   ]
  },
  {
   "cell_type": "code",
   "execution_count": 61,
   "metadata": {},
   "outputs": [],
   "source": [
    "img2counter = dict(zip(class_counter[\"img\"],class_counter[\"has_class\"]))"
   ]
  },
  {
   "cell_type": "code",
   "execution_count": 62,
   "metadata": {},
   "outputs": [],
   "source": [
    "sub_[\"counter\"] = sub_.img.apply(lambda x: img2counter[x])"
   ]
  },
  {
   "cell_type": "code",
   "execution_count": 63,
   "metadata": {},
   "outputs": [
    {
     "data": {
      "text/html": [
       "<div>\n",
       "<style scoped>\n",
       "    .dataframe tbody tr th:only-of-type {\n",
       "        vertical-align: middle;\n",
       "    }\n",
       "\n",
       "    .dataframe tbody tr th {\n",
       "        vertical-align: top;\n",
       "    }\n",
       "\n",
       "    .dataframe thead th {\n",
       "        text-align: right;\n",
       "    }\n",
       "</style>\n",
       "<table border=\"1\" class=\"dataframe\">\n",
       "  <thead>\n",
       "    <tr style=\"text-align: right;\">\n",
       "      <th></th>\n",
       "      <th>Image_Label</th>\n",
       "      <th>EncodedPixels</th>\n",
       "      <th>img</th>\n",
       "      <th>lbl</th>\n",
       "      <th>has_class</th>\n",
       "      <th>counter</th>\n",
       "    </tr>\n",
       "  </thead>\n",
       "  <tbody>\n",
       "    <tr>\n",
       "      <td>0</td>\n",
       "      <td>002f507.jpg_Fish</td>\n",
       "      <td>NaN</td>\n",
       "      <td>002f507.jpg</td>\n",
       "      <td>Fish</td>\n",
       "      <td>1</td>\n",
       "      <td>3</td>\n",
       "    </tr>\n",
       "    <tr>\n",
       "      <td>1</td>\n",
       "      <td>002f507.jpg_Flower</td>\n",
       "      <td>NaN</td>\n",
       "      <td>002f507.jpg</td>\n",
       "      <td>Flower</td>\n",
       "      <td>1</td>\n",
       "      <td>3</td>\n",
       "    </tr>\n",
       "    <tr>\n",
       "      <td>2</td>\n",
       "      <td>002f507.jpg_Gravel</td>\n",
       "      <td>1 338 351 342 701 343 1051 345 1401 346 1751 3...</td>\n",
       "      <td>002f507.jpg</td>\n",
       "      <td>Gravel</td>\n",
       "      <td>0</td>\n",
       "      <td>3</td>\n",
       "    </tr>\n",
       "    <tr>\n",
       "      <td>3</td>\n",
       "      <td>002f507.jpg_Sugar</td>\n",
       "      <td>NaN</td>\n",
       "      <td>002f507.jpg</td>\n",
       "      <td>Sugar</td>\n",
       "      <td>1</td>\n",
       "      <td>3</td>\n",
       "    </tr>\n",
       "    <tr>\n",
       "      <td>4</td>\n",
       "      <td>0035ae9.jpg_Fish</td>\n",
       "      <td>NaN</td>\n",
       "      <td>0035ae9.jpg</td>\n",
       "      <td>Fish</td>\n",
       "      <td>1</td>\n",
       "      <td>2</td>\n",
       "    </tr>\n",
       "    <tr>\n",
       "      <td>...</td>\n",
       "      <td>...</td>\n",
       "      <td>...</td>\n",
       "      <td>...</td>\n",
       "      <td>...</td>\n",
       "      <td>...</td>\n",
       "      <td>...</td>\n",
       "    </tr>\n",
       "    <tr>\n",
       "      <td>14787</td>\n",
       "      <td>ffe0620.jpg_Sugar</td>\n",
       "      <td>NaN</td>\n",
       "      <td>ffe0620.jpg</td>\n",
       "      <td>Sugar</td>\n",
       "      <td>1</td>\n",
       "      <td>2</td>\n",
       "    </tr>\n",
       "    <tr>\n",
       "      <td>14788</td>\n",
       "      <td>fff3c5c.jpg_Fish</td>\n",
       "      <td>505 46 847 85 1192 112 1539 129 1887 141 2236 ...</td>\n",
       "      <td>fff3c5c.jpg</td>\n",
       "      <td>Fish</td>\n",
       "      <td>0</td>\n",
       "      <td>2</td>\n",
       "    </tr>\n",
       "    <tr>\n",
       "      <td>14789</td>\n",
       "      <td>fff3c5c.jpg_Flower</td>\n",
       "      <td>NaN</td>\n",
       "      <td>fff3c5c.jpg</td>\n",
       "      <td>Flower</td>\n",
       "      <td>1</td>\n",
       "      <td>2</td>\n",
       "    </tr>\n",
       "    <tr>\n",
       "      <td>14790</td>\n",
       "      <td>fff3c5c.jpg_Gravel</td>\n",
       "      <td>NaN</td>\n",
       "      <td>fff3c5c.jpg</td>\n",
       "      <td>Gravel</td>\n",
       "      <td>1</td>\n",
       "      <td>2</td>\n",
       "    </tr>\n",
       "    <tr>\n",
       "      <td>14791</td>\n",
       "      <td>fff3c5c.jpg_Sugar</td>\n",
       "      <td>2518 30 2859 42 3206 47 3554 51 3903 53 4252 5...</td>\n",
       "      <td>fff3c5c.jpg</td>\n",
       "      <td>Sugar</td>\n",
       "      <td>0</td>\n",
       "      <td>2</td>\n",
       "    </tr>\n",
       "  </tbody>\n",
       "</table>\n",
       "<p>14792 rows × 6 columns</p>\n",
       "</div>"
      ],
      "text/plain": [
       "              Image_Label                                      EncodedPixels  \\\n",
       "0        002f507.jpg_Fish                                                NaN   \n",
       "1      002f507.jpg_Flower                                                NaN   \n",
       "2      002f507.jpg_Gravel  1 338 351 342 701 343 1051 345 1401 346 1751 3...   \n",
       "3       002f507.jpg_Sugar                                                NaN   \n",
       "4        0035ae9.jpg_Fish                                                NaN   \n",
       "...                   ...                                                ...   \n",
       "14787   ffe0620.jpg_Sugar                                                NaN   \n",
       "14788    fff3c5c.jpg_Fish  505 46 847 85 1192 112 1539 129 1887 141 2236 ...   \n",
       "14789  fff3c5c.jpg_Flower                                                NaN   \n",
       "14790  fff3c5c.jpg_Gravel                                                NaN   \n",
       "14791   fff3c5c.jpg_Sugar  2518 30 2859 42 3206 47 3554 51 3903 53 4252 5...   \n",
       "\n",
       "               img     lbl  has_class  counter  \n",
       "0      002f507.jpg    Fish          1        3  \n",
       "1      002f507.jpg  Flower          1        3  \n",
       "2      002f507.jpg  Gravel          0        3  \n",
       "3      002f507.jpg   Sugar          1        3  \n",
       "4      0035ae9.jpg    Fish          1        2  \n",
       "...            ...     ...        ...      ...  \n",
       "14787  ffe0620.jpg   Sugar          1        2  \n",
       "14788  fff3c5c.jpg    Fish          0        2  \n",
       "14789  fff3c5c.jpg  Flower          1        2  \n",
       "14790  fff3c5c.jpg  Gravel          1        2  \n",
       "14791  fff3c5c.jpg   Sugar          0        2  \n",
       "\n",
       "[14792 rows x 6 columns]"
      ]
     },
     "execution_count": 63,
     "metadata": {},
     "output_type": "execute_result"
    }
   ],
   "source": [
    "sub_"
   ]
  },
  {
   "cell_type": "code",
   "execution_count": 64,
   "metadata": {},
   "outputs": [
    {
     "name": "stdout",
     "output_type": "stream",
     "text": [
      "Picture x class that suppose to be empty:\t4067\n"
     ]
    }
   ],
   "source": [
    "image_labels_empty = set(pd.read_csv(\"empty_list.csv\")[\"Empty\"])\n",
    "print(\"Picture x class that suppose to be empty:\\t%s\"%(len(image_labels_empty)))"
   ]
  },
  {
   "cell_type": "markdown",
   "metadata": {},
   "source": [
    "Non Empety For Now"
   ]
  },
  {
   "cell_type": "code",
   "execution_count": 65,
   "metadata": {},
   "outputs": [
    {
     "name": "stdout",
     "output_type": "stream",
     "text": [
      "Mask we have:\t6445\n",
      "Non empty single 2565\n"
     ]
    }
   ],
   "source": [
    "predictions_nonempty = set(sub_.loc[~sub_['EncodedPixels'].isnull(), 'Image_Label'].values)\n",
    "nonempty_single = set(sub_.loc[((~sub_['EncodedPixels'].isnull())& sub_.counter==1), 'Image_Label'].values)\n",
    "print(\"Mask we have:\\t%s\"%(len(predictions_nonempty)))\n",
    "print(\"Non empty single %s\"%(len(nonempty_single)))"
   ]
  },
  {
   "cell_type": "code",
   "execution_count": 66,
   "metadata": {},
   "outputs": [],
   "source": [
    "nonempty_can_remove = predictions_nonempty-nonempty_single"
   ]
  },
  {
   "cell_type": "code",
   "execution_count": 67,
   "metadata": {},
   "outputs": [],
   "source": [
    "remove_list = image_labels_empty.intersection(nonempty_can_remove)"
   ]
  },
  {
   "cell_type": "code",
   "execution_count": 68,
   "metadata": {},
   "outputs": [
    {
     "name": "stdout",
     "output_type": "stream",
     "text": [
      "96 masks are in intersection\n",
      "52 masks are in intersection & single\n",
      "44 masks will be removed\n"
     ]
    }
   ],
   "source": [
    "print(f'{len(image_labels_empty.intersection(predictions_nonempty))} masks are in intersection')\n",
    "print(f'{len(image_labels_empty.intersection(nonempty_single))} masks are in intersection & single')\n",
    "print(f'{len(image_labels_empty.intersection(nonempty_can_remove))} masks will be removed')"
   ]
  },
  {
   "cell_type": "code",
   "execution_count": 70,
   "metadata": {},
   "outputs": [
    {
     "name": "stdout",
     "output_type": "stream",
     "text": [
      "New submission saved to :\temp_convex_csvs_1117_012120_sub.csv\n"
     ]
    }
   ],
   "source": [
    "#removing masks\n",
    "submission.loc[submission['Image_Label'].isin(remove_list), 'EncodedPixels'] = np.nan\n",
    "SAVE_PATH = 'emp_%s'%(SUBFILE)\n",
    "print(\"New submission saved to :\\t%s\"%(SAVE_PATH))\n",
    "submission.to_csv(SAVE_PATH, index=None)"
   ]
  }
 ],
 "metadata": {
  "kernelspec": {
   "display_name": "Python 3",
   "language": "python",
   "name": "python3"
  },
  "language_info": {
   "codemirror_mode": {
    "name": "ipython",
    "version": 3
   },
   "file_extension": ".py",
   "mimetype": "text/x-python",
   "name": "python",
   "nbconvert_exporter": "python",
   "pygments_lexer": "ipython3",
   "version": "3.7.4"
  }
 },
 "nbformat": 4,
 "nbformat_minor": 2
}
