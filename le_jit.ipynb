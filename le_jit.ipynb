{
 "cells": [
  {
   "cell_type": "markdown",
   "metadata": {},
   "source": [
    "# The validity of JIT model"
   ]
  },
  {
   "cell_type": "code",
   "execution_count": 1,
   "metadata": {},
   "outputs": [],
   "source": [
    "from pathlib import Path\n",
    "import os"
   ]
  },
  {
   "cell_type": "code",
   "execution_count": 2,
   "metadata": {},
   "outputs": [],
   "source": [
    "HOME = Path(os.environ['HOME'])"
   ]
  },
  {
   "cell_type": "code",
   "execution_count": 3,
   "metadata": {},
   "outputs": [],
   "source": [
    "MODELNAME = \"fpn\"\n",
    "ENCODER = \"efficientnet-b5\"\n",
    "DOWN = False # Downsample at the bottom\n",
    "SRC = HOME/\"ucsi\"/\"fastai\"/\"models\"/\"bestmodel_3.pth\" # source model path\n",
    "DST = HOME/\"ucsi\"/\"jit\"/\"fpn_b5_e3.pth\" # desitination model path"
   ]
  },
  {
   "cell_type": "code",
   "execution_count": 4,
   "metadata": {},
   "outputs": [],
   "source": [
    "from torch import jit\n",
    "import segmentation_models_pytorch as smp\n",
    "import torch\n",
    "from torch import nn"
   ]
  },
  {
   "cell_type": "code",
   "execution_count": 5,
   "metadata": {},
   "outputs": [],
   "source": [
    "if MODELNAME ==\"fpn\":\n",
    "    model_class = smp.FPN\n",
    "elif MODELNAME == \"unet\":\n",
    "    model_class = smp.Unet"
   ]
  },
  {
   "cell_type": "markdown",
   "metadata": {},
   "source": [
    "### Loading The Model"
   ]
  },
  {
   "cell_type": "code",
   "execution_count": 6,
   "metadata": {},
   "outputs": [
    {
     "name": "stdout",
     "output_type": "stream",
     "text": [
      "Constructing the model\n",
      "{'encoder_name': 'efficientnet-b5', 'encoder_weights': None, 'classes': 4, 'activation': 'sigmoid'}\n"
     ]
    }
   ],
   "source": [
    "seg_conf = {\n",
    "    \"encoder_name\":ENCODER,\n",
    "    \"encoder_weights\":None,\n",
    "    \"classes\":4,\n",
    "    \"activation\":\"sigmoid\",\n",
    "}\n",
    "\n",
    "print(\"Constructing the model\")\n",
    "print(seg_conf)\n",
    "if DOWN:\n",
    "    class majorModel(nn.Module):\n",
    "        def __init__(self, seg_model):\n",
    "            super().__init__()\n",
    "            self.seq = nn.Sequential(*[\n",
    "                nn.Conv2d(3,12,kernel_size=(3,3), padding=1, stride=1, ),\n",
    "                nn.ReLU(),\n",
    "                nn.Conv2d(12,3,kernel_size=(3,3), padding=1, stride=2),\n",
    "                nn.ReLU(),\n",
    "                seg_model,])\n",
    "            \n",
    "        def forward(self,x):\n",
    "            return self.seq(x)\n",
    "    model = majorModel(model_class(**seg_conf))\n",
    "    \n",
    "else:\n",
    "    model = model_class(**seg_conf)"
   ]
  },
  {
   "cell_type": "code",
   "execution_count": 7,
   "metadata": {},
   "outputs": [
    {
     "name": "stdout",
     "output_type": "stream",
     "text": [
      "CUDA available:\tTrue\n"
     ]
    }
   ],
   "source": [
    "CUDA = torch.cuda.is_available()\n",
    "print(\"CUDA available:\\t%s\"%(CUDA))"
   ]
  },
  {
   "cell_type": "code",
   "execution_count": 8,
   "metadata": {},
   "outputs": [
    {
     "name": "stdout",
     "output_type": "stream",
     "text": [
      "Loading from weights:\t/home/b2ray2c/ucsi/fastai/models/bestmodel_3.pth\n"
     ]
    },
    {
     "data": {
      "text/plain": [
       "<All keys matched successfully>"
      ]
     },
     "execution_count": 8,
     "metadata": {},
     "output_type": "execute_result"
    }
   ],
   "source": [
    "print(\"Loading from weights:\\t%s\"%(SRC))\n",
    "state = torch.load(SRC)\n",
    "if \"model\" in state:\n",
    "    state = state[\"model\"]\n",
    "if CUDA:\n",
    "    model = model.cuda()\n",
    "model.load_state_dict(state)"
   ]
  },
  {
   "cell_type": "code",
   "execution_count": 9,
   "metadata": {},
   "outputs": [],
   "source": [
    "testimg = torch.rand(2, 3, 320, 640)\n",
    "if CUDA:\n",
    "    testimg = testimg.cuda()"
   ]
  },
  {
   "cell_type": "code",
   "execution_count": 10,
   "metadata": {},
   "outputs": [],
   "source": [
    "model = model.eval()\n",
    "with torch.no_grad():\n",
    "    y1 = model(testimg)"
   ]
  },
  {
   "cell_type": "markdown",
   "metadata": {},
   "source": [
    "### Save to JIT"
   ]
  },
  {
   "cell_type": "code",
   "execution_count": 11,
   "metadata": {},
   "outputs": [
    {
     "name": "stdout",
     "output_type": "stream",
     "text": [
      "Saving to jit traced model:\t/home/b2ray2c/ucsi/jit/fpn_b5_e3.pth\n"
     ]
    },
    {
     "ename": "RuntimeError",
     "evalue": "\nCould not export Python function call 'SwishImplementation'. Remove calls to Python functions before export. Did you forget add @script or @script_method annotation? If this is a nn.ModuleList, add it to __constants__:\n/home/b2ray2c/github/EfficientNet-PyTorch/efficientnet_pytorch/utils.py(57): forward\n/home/b2ray2c/anaconda3/lib/python3.7/site-packages/torch/nn/modules/module.py(531): _slow_forward\n/home/b2ray2c/anaconda3/lib/python3.7/site-packages/torch/nn/modules/module.py(545): __call__\n/home/b2ray2c/github/EfficientNet-PyTorch/efficientnet_pytorch/utils.py(66): relu_fn\n/home/b2ray2c/anaconda3/lib/python3.7/site-packages/segmentation_models_pytorch/encoders/efficientnet.py(19): forward\n/home/b2ray2c/anaconda3/lib/python3.7/site-packages/torch/nn/modules/module.py(531): _slow_forward\n/home/b2ray2c/anaconda3/lib/python3.7/site-packages/torch/nn/modules/module.py(545): __call__\n/home/b2ray2c/anaconda3/lib/python3.7/site-packages/segmentation_models_pytorch/base/encoder_decoder.py(24): forward\n/home/b2ray2c/anaconda3/lib/python3.7/site-packages/torch/nn/modules/module.py(531): _slow_forward\n/home/b2ray2c/anaconda3/lib/python3.7/site-packages/torch/nn/modules/module.py(545): __call__\n/home/b2ray2c/anaconda3/lib/python3.7/site-packages/torch/jit/__init__.py(904): trace_module\n/home/b2ray2c/anaconda3/lib/python3.7/site-packages/torch/jit/__init__.py(772): trace\n<ipython-input-11-b8b1769c2dd5>(3): <module>\n/home/b2ray2c/anaconda3/lib/python3.7/site-packages/IPython/core/interactiveshell.py(3326): run_code\n/home/b2ray2c/anaconda3/lib/python3.7/site-packages/IPython/core/interactiveshell.py(3249): run_ast_nodes\n/home/b2ray2c/anaconda3/lib/python3.7/site-packages/IPython/core/interactiveshell.py(3058): run_cell_async\n/home/b2ray2c/anaconda3/lib/python3.7/site-packages/IPython/core/async_helpers.py(68): _pseudo_sync_runner\n/home/b2ray2c/anaconda3/lib/python3.7/site-packages/IPython/core/interactiveshell.py(2881): _run_cell\n/home/b2ray2c/anaconda3/lib/python3.7/site-packages/IPython/core/interactiveshell.py(2855): run_cell\n/home/b2ray2c/anaconda3/lib/python3.7/site-packages/ipykernel/zmqshell.py(536): run_cell\n/home/b2ray2c/anaconda3/lib/python3.7/site-packages/ipykernel/ipkernel.py(294): do_execute\n/home/b2ray2c/anaconda3/lib/python3.7/site-packages/tornado/gen.py(209): wrapper\n/home/b2ray2c/anaconda3/lib/python3.7/site-packages/ipykernel/kernelbase.py(542): execute_request\n/home/b2ray2c/anaconda3/lib/python3.7/site-packages/tornado/gen.py(209): wrapper\n/home/b2ray2c/anaconda3/lib/python3.7/site-packages/ipykernel/kernelbase.py(272): dispatch_shell\n/home/b2ray2c/anaconda3/lib/python3.7/site-packages/tornado/gen.py(209): wrapper\n/home/b2ray2c/anaconda3/lib/python3.7/site-packages/ipykernel/kernelbase.py(365): process_one\n/home/b2ray2c/anaconda3/lib/python3.7/site-packages/tornado/gen.py(748): run\n/home/b2ray2c/anaconda3/lib/python3.7/site-packages/tornado/gen.py(714): __init__\n/home/b2ray2c/anaconda3/lib/python3.7/site-packages/tornado/gen.py(225): wrapper\n/home/b2ray2c/anaconda3/lib/python3.7/site-packages/ipykernel/kernelbase.py(378): dispatch_queue\n/home/b2ray2c/anaconda3/lib/python3.7/site-packages/tornado/gen.py(748): run\n/home/b2ray2c/anaconda3/lib/python3.7/site-packages/tornado/gen.py(787): inner\n/home/b2ray2c/anaconda3/lib/python3.7/site-packages/tornado/ioloop.py(743): _run_callback\n/home/b2ray2c/anaconda3/lib/python3.7/site-packages/tornado/ioloop.py(690): <lambda>\n/home/b2ray2c/anaconda3/lib/python3.7/asyncio/events.py(88): _run\n/home/b2ray2c/anaconda3/lib/python3.7/asyncio/base_events.py(1771): _run_once\n/home/b2ray2c/anaconda3/lib/python3.7/asyncio/base_events.py(534): run_forever\n/home/b2ray2c/anaconda3/lib/python3.7/site-packages/tornado/platform/asyncio.py(148): start\n/home/b2ray2c/anaconda3/lib/python3.7/site-packages/ipykernel/kernelapp.py(563): start\n/home/b2ray2c/anaconda3/lib/python3.7/site-packages/traitlets/config/application.py(664): launch_instance\n/home/b2ray2c/anaconda3/lib/python3.7/site-packages/ipykernel_launcher.py(16): <module>\n/home/b2ray2c/anaconda3/lib/python3.7/runpy.py(85): _run_code\n/home/b2ray2c/anaconda3/lib/python3.7/runpy.py(193): _run_module_as_main\n",
     "output_type": "error",
     "traceback": [
      "\u001b[0;31m---------------------------------------------------------------------------\u001b[0m",
      "\u001b[0;31mRuntimeError\u001b[0m                              Traceback (most recent call last)",
      "\u001b[0;32m<ipython-input-11-b8b1769c2dd5>\u001b[0m in \u001b[0;36m<module>\u001b[0;34m\u001b[0m\n\u001b[1;32m      2\u001b[0m \u001b[0;32mwith\u001b[0m \u001b[0mtorch\u001b[0m\u001b[0;34m.\u001b[0m\u001b[0mno_grad\u001b[0m\u001b[0;34m(\u001b[0m\u001b[0;34m)\u001b[0m\u001b[0;34m:\u001b[0m\u001b[0;34m\u001b[0m\u001b[0;34m\u001b[0m\u001b[0m\n\u001b[1;32m      3\u001b[0m     \u001b[0mtraced\u001b[0m \u001b[0;34m=\u001b[0m \u001b[0mjit\u001b[0m\u001b[0;34m.\u001b[0m\u001b[0mtrace\u001b[0m\u001b[0;34m(\u001b[0m\u001b[0mmodel\u001b[0m\u001b[0;34m,\u001b[0m \u001b[0mtestimg\u001b[0m\u001b[0;34m)\u001b[0m\u001b[0;34m\u001b[0m\u001b[0;34m\u001b[0m\u001b[0m\n\u001b[0;32m----> 4\u001b[0;31m     \u001b[0mtraced\u001b[0m\u001b[0;34m.\u001b[0m\u001b[0msave\u001b[0m\u001b[0;34m(\u001b[0m\u001b[0mstr\u001b[0m\u001b[0;34m(\u001b[0m\u001b[0mDST\u001b[0m\u001b[0;34m)\u001b[0m\u001b[0;34m)\u001b[0m\u001b[0;34m\u001b[0m\u001b[0;34m\u001b[0m\u001b[0m\n\u001b[0m",
      "\u001b[0;32m~/anaconda3/lib/python3.7/site-packages/torch/jit/__init__.py\u001b[0m in \u001b[0;36msave\u001b[0;34m(self, *args, **kwargs)\u001b[0m\n\u001b[1;32m   1548\u001b[0m \u001b[0;34m\u001b[0m\u001b[0m\n\u001b[1;32m   1549\u001b[0m         \u001b[0;32mdef\u001b[0m \u001b[0msave\u001b[0m\u001b[0;34m(\u001b[0m\u001b[0mself\u001b[0m\u001b[0;34m,\u001b[0m \u001b[0;34m*\u001b[0m\u001b[0margs\u001b[0m\u001b[0;34m,\u001b[0m \u001b[0;34m**\u001b[0m\u001b[0mkwargs\u001b[0m\u001b[0;34m)\u001b[0m\u001b[0;34m:\u001b[0m\u001b[0;34m\u001b[0m\u001b[0;34m\u001b[0m\u001b[0m\n\u001b[0;32m-> 1550\u001b[0;31m             \u001b[0;32mreturn\u001b[0m \u001b[0mself\u001b[0m\u001b[0;34m.\u001b[0m\u001b[0m_c\u001b[0m\u001b[0;34m.\u001b[0m\u001b[0msave\u001b[0m\u001b[0;34m(\u001b[0m\u001b[0;34m*\u001b[0m\u001b[0margs\u001b[0m\u001b[0;34m,\u001b[0m \u001b[0;34m**\u001b[0m\u001b[0mkwargs\u001b[0m\u001b[0;34m)\u001b[0m\u001b[0;34m\u001b[0m\u001b[0;34m\u001b[0m\u001b[0m\n\u001b[0m\u001b[1;32m   1551\u001b[0m \u001b[0;34m\u001b[0m\u001b[0m\n\u001b[1;32m   1552\u001b[0m         \u001b[0;32mdef\u001b[0m \u001b[0msave_to_buffer\u001b[0m\u001b[0;34m(\u001b[0m\u001b[0mself\u001b[0m\u001b[0;34m,\u001b[0m \u001b[0;34m*\u001b[0m\u001b[0margs\u001b[0m\u001b[0;34m,\u001b[0m \u001b[0;34m**\u001b[0m\u001b[0mkwargs\u001b[0m\u001b[0;34m)\u001b[0m\u001b[0;34m:\u001b[0m\u001b[0;34m\u001b[0m\u001b[0;34m\u001b[0m\u001b[0m\n",
      "\u001b[0;31mRuntimeError\u001b[0m: \nCould not export Python function call 'SwishImplementation'. Remove calls to Python functions before export. Did you forget add @script or @script_method annotation? If this is a nn.ModuleList, add it to __constants__:\n/home/b2ray2c/github/EfficientNet-PyTorch/efficientnet_pytorch/utils.py(57): forward\n/home/b2ray2c/anaconda3/lib/python3.7/site-packages/torch/nn/modules/module.py(531): _slow_forward\n/home/b2ray2c/anaconda3/lib/python3.7/site-packages/torch/nn/modules/module.py(545): __call__\n/home/b2ray2c/github/EfficientNet-PyTorch/efficientnet_pytorch/utils.py(66): relu_fn\n/home/b2ray2c/anaconda3/lib/python3.7/site-packages/segmentation_models_pytorch/encoders/efficientnet.py(19): forward\n/home/b2ray2c/anaconda3/lib/python3.7/site-packages/torch/nn/modules/module.py(531): _slow_forward\n/home/b2ray2c/anaconda3/lib/python3.7/site-packages/torch/nn/modules/module.py(545): __call__\n/home/b2ray2c/anaconda3/lib/python3.7/site-packages/segmentation_models_pytorch/base/encoder_decoder.py(24): forward\n/home/b2ray2c/anaconda3/lib/python3.7/site-packages/torch/nn/modules/module.py(531): _slow_forward\n/home/b2ray2c/anaconda3/lib/python3.7/site-packages/torch/nn/modules/module.py(545): __call__\n/home/b2ray2c/anaconda3/lib/python3.7/site-packages/torch/jit/__init__.py(904): trace_module\n/home/b2ray2c/anaconda3/lib/python3.7/site-packages/torch/jit/__init__.py(772): trace\n<ipython-input-11-b8b1769c2dd5>(3): <module>\n/home/b2ray2c/anaconda3/lib/python3.7/site-packages/IPython/core/interactiveshell.py(3326): run_code\n/home/b2ray2c/anaconda3/lib/python3.7/site-packages/IPython/core/interactiveshell.py(3249): run_ast_nodes\n/home/b2ray2c/anaconda3/lib/python3.7/site-packages/IPython/core/interactiveshell.py(3058): run_cell_async\n/home/b2ray2c/anaconda3/lib/python3.7/site-packages/IPython/core/async_helpers.py(68): _pseudo_sync_runner\n/home/b2ray2c/anaconda3/lib/python3.7/site-packages/IPython/core/interactiveshell.py(2881): _run_cell\n/home/b2ray2c/anaconda3/lib/python3.7/site-packages/IPython/core/interactiveshell.py(2855): run_cell\n/home/b2ray2c/anaconda3/lib/python3.7/site-packages/ipykernel/zmqshell.py(536): run_cell\n/home/b2ray2c/anaconda3/lib/python3.7/site-packages/ipykernel/ipkernel.py(294): do_execute\n/home/b2ray2c/anaconda3/lib/python3.7/site-packages/tornado/gen.py(209): wrapper\n/home/b2ray2c/anaconda3/lib/python3.7/site-packages/ipykernel/kernelbase.py(542): execute_request\n/home/b2ray2c/anaconda3/lib/python3.7/site-packages/tornado/gen.py(209): wrapper\n/home/b2ray2c/anaconda3/lib/python3.7/site-packages/ipykernel/kernelbase.py(272): dispatch_shell\n/home/b2ray2c/anaconda3/lib/python3.7/site-packages/tornado/gen.py(209): wrapper\n/home/b2ray2c/anaconda3/lib/python3.7/site-packages/ipykernel/kernelbase.py(365): process_one\n/home/b2ray2c/anaconda3/lib/python3.7/site-packages/tornado/gen.py(748): run\n/home/b2ray2c/anaconda3/lib/python3.7/site-packages/tornado/gen.py(714): __init__\n/home/b2ray2c/anaconda3/lib/python3.7/site-packages/tornado/gen.py(225): wrapper\n/home/b2ray2c/anaconda3/lib/python3.7/site-packages/ipykernel/kernelbase.py(378): dispatch_queue\n/home/b2ray2c/anaconda3/lib/python3.7/site-packages/tornado/gen.py(748): run\n/home/b2ray2c/anaconda3/lib/python3.7/site-packages/tornado/gen.py(787): inner\n/home/b2ray2c/anaconda3/lib/python3.7/site-packages/tornado/ioloop.py(743): _run_callback\n/home/b2ray2c/anaconda3/lib/python3.7/site-packages/tornado/ioloop.py(690): <lambda>\n/home/b2ray2c/anaconda3/lib/python3.7/asyncio/events.py(88): _run\n/home/b2ray2c/anaconda3/lib/python3.7/asyncio/base_events.py(1771): _run_once\n/home/b2ray2c/anaconda3/lib/python3.7/asyncio/base_events.py(534): run_forever\n/home/b2ray2c/anaconda3/lib/python3.7/site-packages/tornado/platform/asyncio.py(148): start\n/home/b2ray2c/anaconda3/lib/python3.7/site-packages/ipykernel/kernelapp.py(563): start\n/home/b2ray2c/anaconda3/lib/python3.7/site-packages/traitlets/config/application.py(664): launch_instance\n/home/b2ray2c/anaconda3/lib/python3.7/site-packages/ipykernel_launcher.py(16): <module>\n/home/b2ray2c/anaconda3/lib/python3.7/runpy.py(85): _run_code\n/home/b2ray2c/anaconda3/lib/python3.7/runpy.py(193): _run_module_as_main\n"
     ]
    }
   ],
   "source": [
    "print(\"Saving to jit traced model:\\t%s\"%(DST))\n",
    "with torch.no_grad():\n",
    "    traced = jit.trace(model, testimg)\n",
    "    traced.save(str(DST))"
   ]
  },
  {
   "cell_type": "code",
   "execution_count": null,
   "metadata": {},
   "outputs": [],
   "source": [
    "if CUDA:\n",
    "    model = model.cpu()"
   ]
  },
  {
   "cell_type": "markdown",
   "metadata": {},
   "source": [
    "### Recover from saved JIT"
   ]
  },
  {
   "cell_type": "code",
   "execution_count": null,
   "metadata": {},
   "outputs": [],
   "source": [
    "recovered = jit.load(str(DST))\n",
    "if CUDA: \n",
    "    recovered = recovered.cuda()\n",
    "with torch.no_grad():\n",
    "    y2 = recovered(testimg)"
   ]
  },
  {
   "cell_type": "code",
   "execution_count": null,
   "metadata": {},
   "outputs": [],
   "source": [
    "print(\"Absolute Mean Error:%s\"%(torch.abs(y1-y2).mean().item()))"
   ]
  },
  {
   "cell_type": "code",
   "execution_count": null,
   "metadata": {},
   "outputs": [],
   "source": []
  }
 ],
 "metadata": {
  "kernelspec": {
   "display_name": "Python 3",
   "language": "python",
   "name": "python3"
  }
 },
 "nbformat": 4,
 "nbformat_minor": 2
}
