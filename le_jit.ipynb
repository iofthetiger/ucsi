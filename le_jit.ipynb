{
 "cells": [
  {
   "cell_type": "markdown",
   "metadata": {},
   "source": [
    "# The validity of JIT model"
   ]
  },
  {
   "cell_type": "code",
   "execution_count": 1,
   "metadata": {},
   "outputs": [],
   "source": [
    "from pathlib import Path\n",
    "import os"
   ]
  },
  {
   "cell_type": "code",
   "execution_count": 2,
   "metadata": {},
   "outputs": [],
   "source": [
    "HOME = Path(os.environ['HOME'])"
   ]
  },
  {
   "cell_type": "code",
   "execution_count": 3,
   "metadata": {},
   "outputs": [],
   "source": [
    "MODELNAME = \"fpn\"\n",
    "ENCODER = \"efficientnet-b5\"\n",
    "DOWN = True # Downsample at the bottom\n",
    "SRC = HOME/\"ucsi\"/\"fastai\"/\"models\"/\"bestmodel_4.pth\" # source model path\n",
    "DST = HOME/\"ucsi\"/\"jit\"/\"fpn_b5_e4.pth\" # desitination model path"
   ]
  },
  {
   "cell_type": "code",
   "execution_count": 4,
   "metadata": {},
   "outputs": [],
   "source": [
    "from torch import jit\n",
    "import segmentation_models_pytorch as smp\n",
    "import torch\n",
    "from torch import nn"
   ]
  },
  {
   "cell_type": "code",
   "execution_count": 5,
   "metadata": {},
   "outputs": [],
   "source": [
    "if MODELNAME ==\"fpn\":\n",
    "    model_class = smp.FPN\n",
    "elif MODELNAME == \"unet\":\n",
    "    model_class = smp.Unet"
   ]
  },
  {
   "cell_type": "markdown",
   "metadata": {},
   "source": [
    "### Loading The Model"
   ]
  },
  {
   "cell_type": "code",
   "execution_count": 6,
   "metadata": {},
   "outputs": [
    {
     "name": "stdout",
     "output_type": "stream",
     "text": [
      "Constructing the model\n",
      "{'encoder_name': 'efficientnet-b5', 'encoder_weights': None, 'classes': 4, 'activation': 'sigmoid'}\n"
     ]
    }
   ],
   "source": [
    "seg_conf = {\n",
    "    \"encoder_name\":ENCODER,\n",
    "    \"encoder_weights\":None,\n",
    "    \"classes\":4,\n",
    "    \"activation\":\"sigmoid\",\n",
    "}\n",
    "\n",
    "print(\"Constructing the model\")\n",
    "print(seg_conf)\n",
    "if DOWN:\n",
    "    class majorModel(nn.Module):\n",
    "        def __init__(self, seg_model):\n",
    "            super().__init__()\n",
    "            self.seq = nn.Sequential(*[\n",
    "                nn.Conv2d(3,12,kernel_size=(3,3), padding=1, stride=1, ),\n",
    "                nn.ReLU(),\n",
    "                nn.Conv2d(12,3,kernel_size=(3,3), padding=1, stride=2),\n",
    "                nn.ReLU(),\n",
    "                seg_model,])\n",
    "        \n",
    "        def forward(self,x):\n",
    "            return self.seq(x)\n",
    "    model = majorModel(model_class(**seg_conf))\n",
    "    \n",
    "else:\n",
    "    model = model_class(**seg_conf)"
   ]
  },
  {
   "cell_type": "code",
   "execution_count": 7,
   "metadata": {},
   "outputs": [
    {
     "name": "stdout",
     "output_type": "stream",
     "text": [
      "CUDA available:\tTrue\n"
     ]
    }
   ],
   "source": [
    "CUDA = torch.cuda.is_available()\n",
    "print(\"CUDA available:\\t%s\"%(CUDA))"
   ]
  },
  {
   "cell_type": "code",
   "execution_count": 8,
   "metadata": {},
   "outputs": [
    {
     "name": "stdout",
     "output_type": "stream",
     "text": [
      "Loading from weights:\t/home/b2ray2c/ucsi/fastai/models/bestmodel_4.pth\n"
     ]
    },
    {
     "data": {
      "text/plain": [
       "<All keys matched successfully>"
      ]
     },
     "execution_count": 8,
     "metadata": {},
     "output_type": "execute_result"
    }
   ],
   "source": [
    "print(\"Loading from weights:\\t%s\"%(SRC))\n",
    "state = torch.load(SRC)\n",
    "if \"model\" in state:\n",
    "    state = state[\"model\"]\n",
    "if CUDA:\n",
    "    model = model.cuda()\n",
    "model.load_state_dict(state)"
   ]
  },
  {
   "cell_type": "code",
   "execution_count": 9,
   "metadata": {},
   "outputs": [],
   "source": [
    "testimg = torch.rand(2, 3, 320, 640)\n",
    "if CUDA:\n",
    "    testimg = testimg.cuda()"
   ]
  },
  {
   "cell_type": "code",
   "execution_count": 10,
   "metadata": {},
   "outputs": [],
   "source": [
    "model = model.eval()\n",
    "with torch.no_grad():\n",
    "    y1 = model(testimg)"
   ]
  },
  {
   "cell_type": "markdown",
   "metadata": {},
   "source": [
    "### Save to JIT"
   ]
  },
  {
   "cell_type": "code",
   "execution_count": 11,
   "metadata": {},
   "outputs": [
    {
     "name": "stdout",
     "output_type": "stream",
     "text": [
      "Saving to jit traced model:\t/home/b2ray2c/ucsi/jit/fpn_b5_e4.pth\n"
     ]
    }
   ],
   "source": [
    "print(\"Saving to jit traced model:\\t%s\"%(DST))\n",
    "with torch.no_grad():\n",
    "    traced = jit.trace(model, testimg)\n",
    "    traced.save(str(DST))"
   ]
  },
  {
   "cell_type": "code",
   "execution_count": 12,
   "metadata": {},
   "outputs": [],
   "source": [
    "if CUDA:\n",
    "    model = model.cpu()"
   ]
  },
  {
   "cell_type": "markdown",
   "metadata": {},
   "source": [
    "### Recover from saved JIT"
   ]
  },
  {
   "cell_type": "code",
   "execution_count": 13,
   "metadata": {},
   "outputs": [],
   "source": [
    "recovered = jit.load(str(DST))\n",
    "if CUDA: \n",
    "    recovered = recovered.cuda()\n",
    "with torch.no_grad():\n",
    "    y2 = recovered(testimg)"
   ]
  },
  {
   "cell_type": "code",
   "execution_count": 14,
   "metadata": {},
   "outputs": [
    {
     "name": "stdout",
     "output_type": "stream",
     "text": [
      "Absolute Mean Error:0.0\n"
     ]
    }
   ],
   "source": [
    "print(\"Absolute Mean Error:%s\"%(torch.abs(y1-y2).mean().item()))"
   ]
  },
  {
   "cell_type": "code",
   "execution_count": null,
   "metadata": {},
   "outputs": [],
   "source": []
  }
 ],
 "metadata": {
  "kernelspec": {
   "display_name": "Python 3",
   "language": "python",
   "name": "python3"
  },
  "language_info": {
   "codemirror_mode": {
    "name": "ipython",
    "version": 3
   },
   "file_extension": ".py",
   "mimetype": "text/x-python",
   "name": "python",
   "nbconvert_exporter": "python",
   "pygments_lexer": "ipython3",
   "version": "3.7.4"
  }
 },
 "nbformat": 4,
 "nbformat_minor": 2
}
